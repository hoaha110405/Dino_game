{
  "nbformat": 4,
  "nbformat_minor": 0,
  "metadata": {
    "colab": {
      "provenance": [],
      "toc_visible": true,
      "authorship_tag": "ABX9TyNwE2A+znhWfYrDgNrdSQIi",
      "include_colab_link": true
    },
    "kernelspec": {
      "name": "python3",
      "display_name": "Python 3"
    },
    "language_info": {
      "name": "python"
    }
  },
  "cells": [
    {
      "cell_type": "markdown",
      "metadata": {
        "id": "view-in-github",
        "colab_type": "text"
      },
      "source": [
        "<a href=\"https://colab.research.google.com/github/hoaha110405/Dino_game/blob/main/Untitled0.ipynb\" target=\"_parent\"><img src=\"https://colab.research.google.com/assets/colab-badge.svg\" alt=\"Open In Colab\"/></a>"
      ]
    },
    {
      "cell_type": "code",
      "execution_count": 1,
      "metadata": {
        "colab": {
          "base_uri": "https://localhost:8080/"
        },
        "id": "5HMg-9krC_v2",
        "outputId": "8c2a593c-da45-4fce-dfb3-407c7d7b2a54"
      },
      "outputs": [
        {
          "output_type": "stream",
          "name": "stdout",
          "text": [
            "Requirement already satisfied: cryptography in /usr/local/lib/python3.12/dist-packages (43.0.3)\n",
            "Requirement already satisfied: pyjwt in /usr/local/lib/python3.12/dist-packages (2.10.1)\n",
            "Requirement already satisfied: cffi>=1.12 in /usr/local/lib/python3.12/dist-packages (from cryptography) (1.17.1)\n",
            "Requirement already satisfied: pycparser in /usr/local/lib/python3.12/dist-packages (from cffi>=1.12->cryptography) (2.22)\n"
          ]
        }
      ],
      "source": [
        "!pip install cryptography pyjwt\n"
      ]
    },
    {
      "cell_type": "code",
      "source": [
        "from cryptography.hazmat.primitives.ciphers.aead import AESGCM\n",
        "import os\n",
        "\n",
        "def aes_gcm_decrypt(key_hex: str, nonce_hex: str, ct_hex: str, aad: bytes | None = None) -> bytes:\n",
        "    key = bytes.fromhex(key_hex)\n",
        "    nonce = bytes.fromhex(nonce_hex)\n",
        "    ct = bytes.fromhex(ct_hex)  # ciphertext + tag (GCM)\n",
        "    aesgcm = AESGCM(key)\n",
        "    return aesgcm.decrypt(nonce, ct, aad)\n",
        "\n",
        "# ==== DEMO tự chạy ====\n",
        "# Tạo dữ liệu demo (mã hóa trước rồi giải mã) để kiểm tra môi trường OK\n",
        "key = os.urandom(32)           # AES-256\n",
        "nonce = os.urandom(12)         # 12 bytes cho GCM\n",
        "aad = b\"header-optional\"\n",
        "pt_demo = b\"Hello AES-GCM!\"\n",
        "\n",
        "aesgcm = AESGCM(key)\n",
        "ct_demo = aesgcm.encrypt(nonce, pt_demo, aad)\n",
        "\n",
        "print(\"Demo AES:\")\n",
        "print(\"  key_hex  =\", key.hex())\n",
        "print(\"  nonce_hex=\", nonce.hex())\n",
        "print(\"  ct_hex   =\", ct_demo.hex())\n",
        "\n",
        "# Giải mã lại\n",
        "pt_out = AESGCM(key).decrypt(nonce, ct_demo, aad)\n",
        "print(\"  plaintext:\", pt_out)\n",
        "\n",
        "# ==== DÙNG DỮ LIỆU THẬT ====\n",
        "# Thay 3 dòng dưới bằng dữ liệu của bạn (hex). Nếu không có AAD thì để aad_real = None\n",
        "key_hex_real   = key.hex()     # TODO: thay bằng key thật (hex)\n",
        "nonce_hex_real = nonce.hex()   # TODO: thay bằng nonce thật (hex, 12 bytes)\n",
        "ct_hex_real    = ct_demo.hex() # TODO: thay bằng ciphertext+tag thật (hex)\n",
        "aad_real = aad                  # hoặc None\n",
        "\n",
        "try:\n",
        "    plaintext_real = aes_gcm_decrypt(key_hex_real, nonce_hex_real, ct_hex_real, aad_real)\n",
        "    print(\"\\n✅ AES-GCM giải mã OK (dữ liệu thật):\", plaintext_real)\n",
        "except Exception as e:\n",
        "    print(\"\\n❌ AES-GCM lỗi:\", e)\n"
      ],
      "metadata": {
        "colab": {
          "base_uri": "https://localhost:8080/"
        },
        "id": "aCAHtI0bDGxe",
        "outputId": "7debc31a-e4aa-4c05-87ba-b0e4778aeb06"
      },
      "execution_count": 2,
      "outputs": [
        {
          "output_type": "stream",
          "name": "stdout",
          "text": [
            "Demo AES:\n",
            "  key_hex  = a496083eeedfb8a1691d966ed4a5b4194cc644c2c17001a0de0c09e9f67ced8e\n",
            "  nonce_hex= 78156414492df4c1c0b9fe89\n",
            "  ct_hex   = d58e17103aebdb81f32ee43fc81011caf6ec6c3afb71969ab75636c4432e\n",
            "  plaintext: b'Hello AES-GCM!'\n",
            "\n",
            "✅ AES-GCM giải mã OK (dữ liệu thật): b'Hello AES-GCM!'\n"
          ]
        }
      ]
    },
    {
      "cell_type": "code",
      "source": [
        "from cryptography.hazmat.primitives import serialization, hashes\n",
        "from cryptography.hazmat.primitives.asymmetric import padding, rsa\n",
        "\n",
        "def rsa_oaep_decrypt_pem(private_pem_bytes: bytes, ciphertext_hex: str, passphrase: bytes|None=None) -> bytes:\n",
        "    private_key = serialization.load_pem_private_key(private_pem_bytes, password=passphrase)\n",
        "    ciphertext = bytes.fromhex(ciphertext_hex)\n",
        "    return private_key.decrypt(\n",
        "        ciphertext,\n",
        "        padding.OAEP(mgf=padding.MGF1(hashes.SHA256()), algorithm=hashes.SHA256(), label=None)\n",
        "    )\n",
        "\n",
        "# ==== DEMO tự chạy ====\n",
        "# 1) Tạo cặp khóa RSA\n",
        "priv = rsa.generate_private_key(public_exponent=65537, key_size=2048)\n",
        "pub = priv.public_key()\n",
        "\n",
        "priv_pem = priv.private_bytes(\n",
        "    encoding=serialization.Encoding.PEM,\n",
        "    format=serialization.PrivateFormat.PKCS8,\n",
        "    encryption_algorithm=serialization.NoEncryption()\n",
        ")\n",
        "pub_pem = pub.public_bytes(\n",
        "    encoding=serialization.Encoding.PEM,\n",
        "    format=serialization.PublicFormat.SubjectPublicKeyInfo\n",
        ")\n",
        "\n",
        "msg = b\"Hello RSA-OAEP!\"\n",
        "# 2) Mã hóa bằng public key để có ciphertext demo\n",
        "cipher_demo = pub.encrypt(\n",
        "    msg,\n",
        "    padding.OAEP(mgf=padding.MGF1(hashes.SHA256()), algorithm=hashes.SHA256(), label=None)\n",
        ")\n",
        "print(\"Demo RSA-OAEP:\")\n",
        "print(\"  ciphertext_hex =\", cipher_demo.hex()[:80]+\"...\")  # rút gọn in\n",
        "\n",
        "# 3) Giải mã bằng private key\n",
        "pt = rsa_oaep_decrypt_pem(priv_pem, cipher_demo.hex())\n",
        "print(\"  plaintext      =\", pt)\n",
        "\n",
        "# ==== DÙNG DỮ LIỆU THẬT ====\n",
        "# Nếu bạn có file PEM trong Colab, có thể upload:\n",
        "# from google.colab import files\n",
        "# up = files.upload()  # chọn file 'rsa_private.pem'\n",
        "# private_pem_bytes_real = next(iter(up.values()))\n",
        "# ciphertext_hex_real = \"...\"  # TODO: thay bằng hex thật\n",
        "# plaintext_real = rsa_oaep_decrypt_pem(private_pem_bytes_real, ciphertext_hex_real, passphrase=None)\n",
        "# print(\"✅ RSA-OAEP plaintext:\", plaintext_real)\n"
      ],
      "metadata": {
        "colab": {
          "base_uri": "https://localhost:8080/"
        },
        "id": "50fz60DnDVhF",
        "outputId": "6c5d44ab-e31b-426b-ebd6-64fc9216c166"
      },
      "execution_count": 3,
      "outputs": [
        {
          "output_type": "stream",
          "name": "stdout",
          "text": [
            "Demo RSA-OAEP:\n",
            "  ciphertext_hex = 2aceebc4f04c676bc5cb004df7ddbdf9ff3ebf7a3d29004636c12601ff833c6078924efe1d6ff7f8...\n",
            "  plaintext      = b'Hello RSA-OAEP!'\n"
          ]
        }
      ]
    },
    {
      "cell_type": "code",
      "source": [
        "from cryptography.hazmat.primitives.asymmetric import padding\n",
        "from cryptography.exceptions import InvalidSignature\n",
        "\n",
        "def rsa_pss_verify(public_pem_bytes: bytes, message: bytes, signature_hex: str) -> bool:\n",
        "    public_key = serialization.load_pem_public_key(public_pem_bytes)\n",
        "    sig = bytes.fromhex(signature_hex)\n",
        "    try:\n",
        "        public_key.verify(\n",
        "            sig,\n",
        "            message,\n",
        "            padding.PSS(mgf=padding.MGF1(hashes.SHA256()), salt_length=padding.PSS.MAX_LENGTH),\n",
        "            hashes.SHA256()\n",
        "        )\n",
        "        return True\n",
        "    except InvalidSignature:\n",
        "        return False\n",
        "\n",
        "# ==== DEMO tự chạy ====\n",
        "msg = b\"Verify me (RSA-PSS)\"\n",
        "signature_demo = priv.sign(  # dùng private key từ ô RSA trước (đã tạo)\n",
        "    msg,\n",
        "    padding.PSS(mgf=padding.MGF1(hashes.SHA256()), salt_length=padding.PSS.MAX_LENGTH),\n",
        "    hashes.SHA256()\n",
        ")\n",
        "ok = rsa_pss_verify(pub_pem, msg, signature_demo.hex())\n",
        "print(\"Demo RSA-PSS verify:\", \"✅ Hợp lệ\" if ok else \"❌ Sai chữ ký\")\n",
        "\n",
        "# ==== DÙNG DỮ LIỆU THẬT ====\n",
        "# public_pem_bytes_real = pub_pem   # TODO: thay bằng public PEM thật (bytes)\n",
        "# message_real = b\"...\"\n",
        "# signature_hex_real = \"...\"\n",
        "# print(\"Thực tế:\", \"OK\" if rsa_pss_verify(public_pem_bytes_real, message_real, signature_hex_real) else \"Fail\")\n"
      ],
      "metadata": {
        "colab": {
          "base_uri": "https://localhost:8080/"
        },
        "id": "zPhdX8XODcgO",
        "outputId": "b0867426-d037-4310-fbaf-894e5bc13376"
      },
      "execution_count": 4,
      "outputs": [
        {
          "output_type": "stream",
          "name": "stdout",
          "text": [
            "Demo RSA-PSS verify: ✅ Hợp lệ\n"
          ]
        }
      ]
    },
    {
      "cell_type": "code",
      "source": [
        "from cryptography.hazmat.primitives.asymmetric import ed25519\n",
        "\n",
        "def ed25519_verify(public_pem_or_raw: bytes, message: bytes, signature_hex: str) -> bool:\n",
        "    sig = bytes.fromhex(signature_hex)\n",
        "    try:\n",
        "        try:\n",
        "            # Thử parse PEM\n",
        "            public_key = serialization.load_pem_public_key(public_pem_or_raw)\n",
        "        except ValueError:\n",
        "            # Nếu không phải PEM, giả định là raw 32 bytes public key\n",
        "            public_key = ed25519.Ed25519PublicKey.from_public_bytes(public_pem_or_raw)\n",
        "        public_key.verify(sig, message)\n",
        "        return True\n",
        "    except Exception:\n",
        "        return False\n",
        "\n",
        "# ==== DEMO tự chạy ====\n",
        "ed_priv = ed25519.Ed25519PrivateKey.generate()\n",
        "ed_pub = ed_priv.public_key()\n",
        "ed_pub_pem = ed_pub.public_bytes(\n",
        "    encoding=serialization.Encoding.PEM,\n",
        "    format=serialization.PublicFormat.SubjectPublicKeyInfo\n",
        ")\n",
        "\n",
        "msg2 = b\"Verify me (Ed25519)\"\n",
        "sig2 = ed_priv.sign(msg2)\n",
        "print(\"Demo Ed25519 verify:\", \"✅ Hợp lệ\" if ed25519_verify(ed_pub_pem, msg2, sig2.hex()) else \"❌ Sai\")\n"
      ],
      "metadata": {
        "colab": {
          "base_uri": "https://localhost:8080/"
        },
        "id": "0geVLiCfDhC-",
        "outputId": "7e6886aa-0198-4a5d-aa75-dd4ffbf51a41"
      },
      "execution_count": 5,
      "outputs": [
        {
          "output_type": "stream",
          "name": "stdout",
          "text": [
            "Demo Ed25519 verify: ✅ Hợp lệ\n"
          ]
        }
      ]
    },
    {
      "cell_type": "code",
      "source": [
        "import jwt\n",
        "from datetime import datetime, timedelta, timezone\n",
        "\n",
        "# RS256 DEMO: tạo cặp khóa & ký JWT → rồi verify\n",
        "rs_priv = rsa.generate_private_key(public_exponent=65537, key_size=2048)\n",
        "rs_pub = rs_priv.public_key()\n",
        "rs_priv_pem = rs_priv.private_bytes(\n",
        "    encoding=serialization.Encoding.PEM,\n",
        "    format=serialization.PrivateFormat.PKCS8,\n",
        "    encryption_algorithm=serialization.NoEncryption()\n",
        ")\n",
        "rs_pub_pem = rs_pub.public_bytes(\n",
        "    encoding=serialization.Encoding.PEM,\n",
        "    format=serialization.PublicFormat.SubjectPublicKeyInfo\n",
        ")\n",
        "\n",
        "payload_demo = {\n",
        "    \"sub\": \"user123\",\n",
        "    \"iat\": int(datetime.now(timezone.utc).timestamp()),\n",
        "    \"exp\": int((datetime.now(timezone.utc) + timedelta(minutes=5)).timestamp()),\n",
        "    \"iss\": \"https://issuer.example.com\",\n",
        "    \"aud\": \"your-aud\"\n",
        "}\n",
        "\n",
        "token_rs256 = jwt.encode(payload_demo, rs_priv_pem, algorithm=\"RS256\")\n",
        "print(\"Demo RS256 token:\", token_rs256[:80], \"...\")\n",
        "\n",
        "# Verify RS256\n",
        "try:\n",
        "    decoded = jwt.decode(\n",
        "        token_rs256,\n",
        "        rs_pub_pem,\n",
        "        algorithms=[\"RS256\"],\n",
        "        options={\"require\": [\"exp\",\"iat\"]},\n",
        "        audience=\"your-aud\",\n",
        "        issuer=\"https://issuer.example.com\"\n",
        "    )\n",
        "    print(\"✅ RS256 JWT hợp lệ. Payload:\", decoded)\n",
        "except Exception as e:\n",
        "    print(\"❌ RS256 JWT lỗi:\", e)\n",
        "\n",
        "# HS256 DEMO (nếu bạn dùng shared secret)\n",
        "secret = \"supersecret\"\n",
        "token_hs256 = jwt.encode(payload_demo, secret, algorithm=\"HS256\")\n",
        "try:\n",
        "    decoded_hs = jwt.decode(\n",
        "        token_hs256,\n",
        "        secret,\n",
        "        algorithms=[\"HS256\"],\n",
        "        options={\"require\": [\"exp\",\"iat\"]},\n",
        "        audience=\"your-aud\",\n",
        "        issuer=\"https://issuer.example.com\"\n",
        "    )\n",
        "    print(\"✅ HS256 JWT hợp lệ. Payload:\", decoded_hs)\n",
        "except Exception as e:\n",
        "    print(\"❌ HS256 JWT lỗi:\", e)\n",
        "\n",
        "# ==== DÙNG DỮ LIỆU THẬT ====\n",
        "# token_real = \"eyJ...\"   # JWT nhận được\n",
        "# public_key_pem_real = rs_pub_pem  # TODO: thay bằng public key thật (PEM) nếu RS256\n",
        "# print(jwt.decode(token_real, public_key_pem_real, algorithms=[\"RS256\"], options={\"require\":[\"exp\",\"iat\"]}))\n"
      ],
      "metadata": {
        "colab": {
          "base_uri": "https://localhost:8080/"
        },
        "id": "FmfmGg8GDi2t",
        "outputId": "9760233f-3891-45a3-93ca-25e196903d25"
      },
      "execution_count": 6,
      "outputs": [
        {
          "output_type": "stream",
          "name": "stdout",
          "text": [
            "Demo RS256 token: eyJhbGciOiJSUzI1NiIsInR5cCI6IkpXVCJ9.eyJzdWIiOiJ1c2VyMTIzIiwiaWF0IjoxNzU3OTQyODM ...\n",
            "✅ RS256 JWT hợp lệ. Payload: {'sub': 'user123', 'iat': 1757942836, 'exp': 1757943136, 'iss': 'https://issuer.example.com', 'aud': 'your-aud'}\n",
            "✅ HS256 JWT hợp lệ. Payload: {'sub': 'user123', 'iat': 1757942836, 'exp': 1757943136, 'iss': 'https://issuer.example.com', 'aud': 'your-aud'}\n"
          ]
        }
      ]
    }
  ]
}